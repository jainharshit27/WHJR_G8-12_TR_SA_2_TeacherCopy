{
 "cells": [
  {
   "cell_type": "markdown",
   "metadata": {},
   "source": [
    "## Student's Activity Teacher's Copy: Runs by IPL teams in the tournament till 2020\n",
    "\n",
    "### In this activity, we will understand which team has been most productive on batting front\n",
    "\n",
    "#### Understanding the Dataset\n",
    "\n",
    "Dataset consists of 2 columns or `features` namely `batting_team` and `total_runs`.\n",
    "1. `batting_team` represents the team which was batting.\n",
    "2. `total_runs` accounts for the runs attributed to the team for a particular ball.\n",
    "\n",
    "\n",
    "#### Understanding the Approach\n",
    "\n",
    "1. Understanding the most productive team on batting front: Here, we will take into account the total runs scored by each team. The columns we will use are: <br>\n",
    "    1. `batting_team` \n",
    "    2. `total_runs`\n",
    "    \n",
    "    _We will `group` the data on `batting_team` and plot a `bar` graph to interpret the total runs for each team_"
   ]
  },
  {
   "cell_type": "markdown",
   "metadata": {},
   "source": [
    "#### Importing Packages\n",
    "\n",
    "Packages are imported in following manner.<br>\n",
    "```Python\n",
    "import package_name\n",
    "```\n",
    "\n",
    "In the next cell, we have imported the following packages.\n",
    "1. `pandas`. It is the most common library used by data scientists for data manipulation and cleaning\n",
    "2. `numpy`. It adds support for arrays, along with a collection of mathematical functions to operate on these arrays.\n",
    "3. `matplotlib`. It is a plotting library for python. `.pyplot` is a sub-package or set of functions available in matplotlib which we'll be using\n",
    "\n",
    "`pd`,`np`,`plt` are all `aliases` for their corresponding packages.\n",
    "`Alias` are second name assigned to values or variables.\n",
    "\n",
    "`%matplotlib inline` is a \"magic function\" renders plots"
   ]
  },
  {
   "cell_type": "code",
   "execution_count": 1,
   "metadata": {},
   "outputs": [],
   "source": [
    "import pandas as pd\n",
    "import numpy as np\n",
    "import matplotlib.pyplot as plt\n",
    "import seaborn as sns\n",
    "%matplotlib inline"
   ]
  },
  {
   "cell_type": "markdown",
   "metadata": {},
   "source": [
    "#### Loading the Dataset\n",
    "\n",
    "In the cell below, we have created a new pandas DataFrame by the name `df` and imported the mentioned file. <br>\n",
    "We have used `.head()` function to see the first 5 values of the dataset we created.\n",
    "\n",
    "`.head()` can show up any number of values based on the parameter given. <br>\n",
    "If we want to see more, we can pass value in the function like `df.head(10)` will show first 10 values of the dataset"
   ]
  },
  {
   "cell_type": "code",
   "execution_count": 2,
   "metadata": {},
   "outputs": [
    {
     "data": {
      "text/html": [
       "<div>\n",
       "<style scoped>\n",
       "    .dataframe tbody tr th:only-of-type {\n",
       "        vertical-align: middle;\n",
       "    }\n",
       "\n",
       "    .dataframe tbody tr th {\n",
       "        vertical-align: top;\n",
       "    }\n",
       "\n",
       "    .dataframe thead th {\n",
       "        text-align: right;\n",
       "    }\n",
       "</style>\n",
       "<table border=\"1\" class=\"dataframe\">\n",
       "  <thead>\n",
       "    <tr style=\"text-align: right;\">\n",
       "      <th></th>\n",
       "      <th>batting_team</th>\n",
       "      <th>total_runs</th>\n",
       "    </tr>\n",
       "  </thead>\n",
       "  <tbody>\n",
       "    <tr>\n",
       "      <th>0</th>\n",
       "      <td>Kolkata Knight Riders</td>\n",
       "      <td>1</td>\n",
       "    </tr>\n",
       "    <tr>\n",
       "      <th>1</th>\n",
       "      <td>Kolkata Knight Riders</td>\n",
       "      <td>1</td>\n",
       "    </tr>\n",
       "    <tr>\n",
       "      <th>2</th>\n",
       "      <td>Kolkata Knight Riders</td>\n",
       "      <td>0</td>\n",
       "    </tr>\n",
       "    <tr>\n",
       "      <th>3</th>\n",
       "      <td>Kolkata Knight Riders</td>\n",
       "      <td>1</td>\n",
       "    </tr>\n",
       "    <tr>\n",
       "      <th>4</th>\n",
       "      <td>Kolkata Knight Riders</td>\n",
       "      <td>1</td>\n",
       "    </tr>\n",
       "  </tbody>\n",
       "</table>\n",
       "</div>"
      ],
      "text/plain": [
       "            batting_team  total_runs\n",
       "0  Kolkata Knight Riders           1\n",
       "1  Kolkata Knight Riders           1\n",
       "2  Kolkata Knight Riders           0\n",
       "3  Kolkata Knight Riders           1\n",
       "4  Kolkata Knight Riders           1"
      ]
     },
     "execution_count": 2,
     "metadata": {},
     "output_type": "execute_result"
    }
   ],
   "source": [
    "df = pd.read_csv(\"https://raw.githubusercontent.com/jainharshit27/datasets/main/runs_by_team_ball_by_ball.csv\")\n",
    "df.head()"
   ]
  },
  {
   "cell_type": "markdown",
   "metadata": {},
   "source": [
    "#### Grouping of data\n",
    "\n",
    "we have grouped data using `.grouby()` function using various values of `batting_team` feature/column. The `groupby()` function is then followed by `.sum()` to summarize values for other numerical columns in the dataframe. The resulting dataframe is then assigned to dataframe `df_teams_total_runs`."
   ]
  },
  {
   "cell_type": "code",
   "execution_count": 3,
   "metadata": {},
   "outputs": [],
   "source": [
    "df_team_total_runs = df.groupby(\"batting_team\").sum()"
   ]
  },
  {
   "cell_type": "markdown",
   "metadata": {},
   "source": [
    "#### Reducing the dataset to our need\n",
    "\n",
    "In the cell below, we have created a new pandas DataFrame by the name `df_team_GT10K` and assigned it a filtered version of dataframe `df_team_total_runs` such that only those observations are accepted which have `total_runs` value more than `10000`. This can be done like:\n",
    "```Python\n",
    "df_team_total_runs[df_team_total_runs[\"total_runs\"]>10000]\n",
    "```"
   ]
  },
  {
   "cell_type": "code",
   "execution_count": 4,
   "metadata": {},
   "outputs": [
    {
     "data": {
      "text/html": [
       "<div>\n",
       "<style scoped>\n",
       "    .dataframe tbody tr th:only-of-type {\n",
       "        vertical-align: middle;\n",
       "    }\n",
       "\n",
       "    .dataframe tbody tr th {\n",
       "        vertical-align: top;\n",
       "    }\n",
       "\n",
       "    .dataframe thead th {\n",
       "        text-align: right;\n",
       "    }\n",
       "</style>\n",
       "<table border=\"1\" class=\"dataframe\">\n",
       "  <thead>\n",
       "    <tr style=\"text-align: right;\">\n",
       "      <th></th>\n",
       "      <th>total_runs</th>\n",
       "    </tr>\n",
       "    <tr>\n",
       "      <th>batting_team</th>\n",
       "      <th></th>\n",
       "    </tr>\n",
       "  </thead>\n",
       "  <tbody>\n",
       "    <tr>\n",
       "      <th>Chennai Super Kings</th>\n",
       "      <td>28363</td>\n",
       "    </tr>\n",
       "    <tr>\n",
       "      <th>Deccan Chargers</th>\n",
       "      <td>11463</td>\n",
       "    </tr>\n",
       "    <tr>\n",
       "      <th>Delhi Daredevils</th>\n",
       "      <td>24285</td>\n",
       "    </tr>\n",
       "    <tr>\n",
       "      <th>Kings XI Punjab</th>\n",
       "      <td>30017</td>\n",
       "    </tr>\n",
       "    <tr>\n",
       "      <th>Kolkata Knight Riders</th>\n",
       "      <td>29383</td>\n",
       "    </tr>\n",
       "    <tr>\n",
       "      <th>Mumbai Indians</th>\n",
       "      <td>32286</td>\n",
       "    </tr>\n",
       "    <tr>\n",
       "      <th>Rajasthan Royals</th>\n",
       "      <td>24507</td>\n",
       "    </tr>\n",
       "    <tr>\n",
       "      <th>Royal Challengers Bangalore</th>\n",
       "      <td>30214</td>\n",
       "    </tr>\n",
       "    <tr>\n",
       "      <th>Sunrisers Hyderabad</th>\n",
       "      <td>19332</td>\n",
       "    </tr>\n",
       "  </tbody>\n",
       "</table>\n",
       "</div>"
      ],
      "text/plain": [
       "                             total_runs\n",
       "batting_team                           \n",
       "Chennai Super Kings               28363\n",
       "Deccan Chargers                   11463\n",
       "Delhi Daredevils                  24285\n",
       "Kings XI Punjab                   30017\n",
       "Kolkata Knight Riders             29383\n",
       "Mumbai Indians                    32286\n",
       "Rajasthan Royals                  24507\n",
       "Royal Challengers Bangalore       30214\n",
       "Sunrisers Hyderabad               19332"
      ]
     },
     "execution_count": 4,
     "metadata": {},
     "output_type": "execute_result"
    }
   ],
   "source": [
    "df_team_GT10K = df_team_total_runs[df_team_total_runs[\"total_runs\"]>10000]\n",
    "df_team_GT10K"
   ]
  },
  {
   "cell_type": "markdown",
   "metadata": {},
   "source": [
    "#### Plotting of information\n",
    "\n",
    "1. `plt.figure()` is used to increase the size of the figure. The argument `figsize` take a tuple value i.e., value in a `()` such that the first value is width and second is height like `(width, height)` as shown in cell below `(20,5)`.<br>\n",
    "2. `plt.title()` provides the graph or chart with a title.<br>\n",
    "3. `plt.bar()` function is used to plot bar chart. We have plotted bar chart for `df_team_GT10K` dataframe's index value which are, infact, each team as categories or x-axis of the chart and the runs scored by them as y-axis.<br>\n",
    "4. `plt.show()` function combines all the elements of charts and shows them in harmony."
   ]
  },
  {
   "cell_type": "code",
   "execution_count": 5,
   "metadata": {},
   "outputs": [
    {
     "data": {
      "image/png": "[encoded data removed]",
      "text/plain": [
       "<Figure size 1440x360 with 1 Axes>"
      ]
     },
     "metadata": {
      "needs_background": "light"
     },
     "output_type": "display_data"
    }
   ],
   "source": [
    "plt.figure(figsize=(20,5))\n",
    "plt.title(\"Runs scored for each player for KKR\")\n",
    "plt.bar(df_team_GT10K.index, df_team_GT10K[\"total_runs\"])\n",
    "plt.xlabel(\"Teams\")\n",
    "plt.ylabel(\"Total Runs Scored\")\n",
    "plt.show()"
   ]
  },
  {
   "cell_type": "markdown",
   "metadata": {},
   "source": [
    "We have plotted the graph with x axis being the categories representing each Team with over 10000 runs. The height of the categories is based upon the total runs scored by those teams. The graph is an output of the code.\n",
    "\n",
    "Conclusion: Mumbai Indians has scored most runs in IPL."
   ]
  }
 ],
 "metadata": {
  "kernelspec": {
   "display_name": "Python 3",
   "language": "python",
   "name": "python3"
  },
  "language_info": {
   "codemirror_mode": {
    "name": "ipython",
    "version": 3
   },
   "file_extension": ".py",
   "mimetype": "text/x-python",
   "name": "python",
   "nbconvert_exporter": "python",
   "pygments_lexer": "ipython3",
   "version": "3.8.5"
  }
 },
 "nbformat": 4,
 "nbformat_minor": 4
}
